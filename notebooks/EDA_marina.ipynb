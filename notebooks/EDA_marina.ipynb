{
 "cells": [
  {
   "cell_type": "code",
   "execution_count": 1,
   "metadata": {
    "ExecuteTime": {
     "end_time": "2020-09-25T03:17:43.960445Z",
     "start_time": "2020-09-25T03:17:43.517010Z"
    },
    "scrolled": true
   },
   "outputs": [
    {
     "name": "stderr",
     "output_type": "stream",
     "text": [
      "/home/marina/miniconda3/lib/python3.7/importlib/_bootstrap.py:219: RuntimeWarning: numpy.ufunc size changed, may indicate binary incompatibility. Expected 192 from C header, got 216 from PyObject\n",
      "  return f(*args, **kwds)\n"
     ]
    }
   ],
   "source": [
    "import numpy as np\n",
    "import pandas as pd\n",
    "\n",
    "import matplotlib.pyplot as plt"
   ]
  },
  {
   "cell_type": "markdown",
   "metadata": {},
   "source": [
    "# Load data"
   ]
  },
  {
   "cell_type": "code",
   "execution_count": 59,
   "metadata": {
    "ExecuteTime": {
     "end_time": "2020-09-25T04:23:19.883138Z",
     "start_time": "2020-09-25T04:23:11.044292Z"
    }
   },
   "outputs": [],
   "source": [
    "# # description file -- not pandas-friendly\n",
    "# df_dict = pd.read_excel('../data/pulse2020_data.dictionary_CSV_01.xlsx')\n",
    "WEEK_IDX_RANGE = range(1, 14)\n",
    "\n",
    "data = {\n",
    "    n: pd.read_csv(f'../data/pulse2020_puf_{n:02d}.csv')\n",
    "    for n in WEEK_IDX_RANGE\n",
    "}\n",
    "df = pd.read_csv('../data/pulse2020_puf_01.csv')"
   ]
  },
  {
   "cell_type": "code",
   "execution_count": 60,
   "metadata": {
    "ExecuteTime": {
     "end_time": "2020-09-25T04:23:20.203781Z",
     "start_time": "2020-09-25T04:23:19.891054Z"
    }
   },
   "outputs": [],
   "source": [
    "# check each participant has one entry in a given survey\n",
    "for n in WEEK_IDX_RANGE:\n",
    "    assert len(data[n]['SCRAM'].unique()) == len(data[n])"
   ]
  },
  {
   "cell_type": "code",
   "execution_count": 64,
   "metadata": {
    "ExecuteTime": {
     "end_time": "2020-09-25T04:23:46.109716Z",
     "start_time": "2020-09-25T04:23:45.978343Z"
    },
    "scrolled": true
   },
   "outputs": [
    {
     "data": {
      "text/plain": [
       "[83302, 14316, 3417, 0, 0, 0, 0, 0]"
      ]
     },
     "execution_count": 64,
     "metadata": {},
     "output_type": "execute_result"
    }
   ],
   "source": [
    "base_week_idx = 6\n",
    "\n",
    "init_scram_set = set(data[base_week_idx]['SCRAM'])\n",
    "people_funnel = [len(init_scram_set)]\n",
    "\n",
    "for n in WEEK_IDX_RANGE[base_week_idx:]:\n",
    "    intersect_scram_set = init_scram_set.intersection(set(data[n]['SCRAM']))\n",
    "    people_funnel.append(len(intersect_scram_set))\n",
    "\n",
    "people_funnel"
   ]
  },
  {
   "cell_type": "code",
   "execution_count": 195,
   "metadata": {
    "ExecuteTime": {
     "end_time": "2020-09-25T04:59:08.891907Z",
     "start_time": "2020-09-25T04:59:08.886719Z"
    }
   },
   "outputs": [
    {
     "data": {
      "text/plain": [
       "array([[ 1., -1., -1., -1., -1., -1., -1., -1., -1., -1., -1., -1., -1.],\n",
       "       [ 1.,  1.,  1., -1., -1., -1., -1., -1., -1., -1., -1., -1., -1.],\n",
       "       [ 1., -1., -1., -1., -1., -1., -1., -1., -1., -1., -1., -1., -1.],\n",
       "       [ 1., -1., -1., -1., -1., -1., -1., -1., -1., -1., -1., -1., -1.],\n",
       "       [ 1., -1., -1., -1., -1., -1., -1., -1., -1., -1., -1., -1., -1.],\n",
       "       [ 1., -1., -1., -1., -1., -1., -1., -1., -1., -1., -1., -1., -1.],\n",
       "       [ 1., -1., -1., -1., -1., -1., -1., -1., -1., -1., -1., -1., -1.],\n",
       "       [ 1., -1., -1., -1., -1., -1., -1., -1., -1., -1., -1., -1., -1.],\n",
       "       [ 1., -1., -1., -1., -1., -1., -1., -1., -1., -1., -1., -1., -1.],\n",
       "       [ 1., -1., -1., -1., -1., -1., -1., -1., -1., -1., -1., -1., -1.],\n",
       "       [ 1., -1., -1., -1., -1., -1., -1., -1., -1., -1., -1., -1., -1.],\n",
       "       [ 1., -1., -1., -1., -1., -1., -1., -1., -1., -1., -1., -1., -1.],\n",
       "       [ 1.,  1.,  1., -1., -1., -1., -1., -1., -1., -1., -1., -1., -1.],\n",
       "       [ 1., -1., -1., -1., -1., -1., -1., -1., -1., -1., -1., -1., -1.],\n",
       "       [ 1.,  1., -1., -1., -1., -1., -1., -1., -1., -1., -1., -1., -1.],\n",
       "       [ 1., -1., -1., -1., -1., -1., -1., -1., -1., -1., -1., -1., -1.],\n",
       "       [-1.,  2.,  2., -1., -1., -1., -1., -1., -1., -1., -1., -1., -1.],\n",
       "       [ 1., -1., -1., -1., -1., -1., -1., -1., -1., -1., -1., -1., -1.],\n",
       "       [ 1., -1., -1., -1., -1., -1., -1., -1., -1., -1., -1., -1., -1.],\n",
       "       [ 1., -1., -1., -1., -1., -1., -1., -1., -1., -1., -1., -1., -1.]])"
      ]
     },
     "execution_count": 195,
     "metadata": {},
     "output_type": "execute_result"
    }
   ],
   "source": [
    "out_nk[:20]"
   ]
  },
  {
   "cell_type": "code",
   "execution_count": 191,
   "metadata": {
    "ExecuteTime": {
     "end_time": "2020-09-25T04:58:19.596598Z",
     "start_time": "2020-09-25T04:58:19.589768Z"
    }
   },
   "outputs": [
    {
     "data": {
      "text/plain": [
       "array([    0.,     0.,     0.,     0.,     0.,     0., 59065., 11984.,\n",
       "        4755.,     0.,     0.,     0.,     0.])"
      ]
     },
     "execution_count": 191,
     "metadata": {},
     "output_type": "execute_result"
    }
   ],
   "source": [
    "counts_kk[6, :]"
   ]
  },
  {
   "cell_type": "code",
   "execution_count": 93,
   "metadata": {
    "ExecuteTime": {
     "end_time": "2020-09-25T04:33:24.960843Z",
     "start_time": "2020-09-25T04:33:24.947089Z"
    }
   },
   "outputs": [],
   "source": [
    "df1 = data[1][['SCRAM', 'WEEK']].copy()\n",
    "df2 = data[2][['SCRAM', 'WEEK']].copy()"
   ]
  },
  {
   "cell_type": "code",
   "execution_count": 228,
   "metadata": {
    "ExecuteTime": {
     "end_time": "2020-09-25T05:13:18.309713Z",
     "start_time": "2020-09-25T05:13:14.472036Z"
    }
   },
   "outputs": [],
   "source": [
    "new_data = []\n",
    "for i, tmp_df in data.items():\n",
    "    tmp_df = tmp_df[['SCRAM']].copy()\n",
    "    tmp_df.index = tmp_df.SCRAM\n",
    "    tmp_df[str(i)] = i\n",
    "    del tmp_df['SCRAM']\n",
    "    new_data.append(tmp_df)\n",
    "\n",
    "from functools import reduce\n",
    "kwargs = dict(how='outer', left_index=True, right_index=True, )\n",
    "out = reduce(lambda x, y: pd.merge(x, y, **kwargs), new_data)\n",
    "\n",
    "# \n",
    "out_nk = out.values\n",
    "is_valid_nk = np.isfinite(out_nk)\n",
    "out_nk[~is_valid_nk] = 100000\n",
    "out_nk = np.minimum.accumulate(out_nk, axis=1)\n",
    "out_nk[~is_valid_nk] = -1\n",
    "\n",
    "\n",
    "n_k = out_nk.shape[1]\n",
    "# where k means from which week person is visiting\n",
    "# and w is the week we are looking at to\n",
    "counts_kw = np.zeros((n_k, n_k))\n",
    "for k_idx in range(n_k):\n",
    "    counts_kw[k_idx] = (out_nk == k_idx + 1).sum(axis=0)\n",
    "\n",
    "df = pd.DataFrame(data=counts_kw.T, index=np.arange(n_k), columns=np.arange(n_k))\n",
    "df.index.name = 'week number'"
   ]
  },
  {
   "cell_type": "code",
   "execution_count": 229,
   "metadata": {
    "ExecuteTime": {
     "end_time": "2020-09-25T05:13:18.316008Z",
     "start_time": "2020-09-25T05:13:18.311164Z"
    }
   },
   "outputs": [
    {
     "data": {
      "text/plain": [
       "array([ 74413.,  41996., 132961., 101215., 105066.,  83302.,  73472.,\n",
       "       108062.,  98663.,  90767.,  91605.,  86792., 109051.])"
      ]
     },
     "execution_count": 229,
     "metadata": {},
     "output_type": "execute_result"
    }
   ],
   "source": [
    "counts_kw.sum(axis=0)"
   ]
  },
  {
   "cell_type": "code",
   "execution_count": 230,
   "metadata": {
    "ExecuteTime": {
     "end_time": "2020-09-25T05:13:18.323757Z",
     "start_time": "2020-09-25T05:13:18.318330Z"
    }
   },
   "outputs": [
    {
     "data": {
      "text/plain": [
       "(959069, 13)"
      ]
     },
     "execution_count": 230,
     "metadata": {},
     "output_type": "execute_result"
    }
   ],
   "source": [
    "out_nk.shape"
   ]
  },
  {
   "cell_type": "code",
   "execution_count": 231,
   "metadata": {
    "ExecuteTime": {
     "end_time": "2020-09-25T05:13:18.333715Z",
     "start_time": "2020-09-25T05:13:18.325578Z"
    }
   },
   "outputs": [
    {
     "data": {
      "text/plain": [
       "959069.0"
      ]
     },
     "execution_count": 231,
     "metadata": {},
     "output_type": "execute_result"
    }
   ],
   "source": [
    "np.diag(counts_kw).sum()"
   ]
  },
  {
   "cell_type": "code",
   "execution_count": 244,
   "metadata": {
    "ExecuteTime": {
     "end_time": "2020-09-25T05:15:33.985073Z",
     "start_time": "2020-09-25T05:15:33.857726Z"
    }
   },
   "outputs": [
    {
     "data": {
      "text/plain": [
       "<matplotlib.image.AxesImage at 0x7fc8acdd5f50>"
      ]
     },
     "execution_count": 244,
     "metadata": {},
     "output_type": "execute_result"
    },
    {
     "data": {
      "image/png": "[encoded data removed]",
      "text/plain": [
       "<Figure size 432x288 with 1 Axes>"
      ]
     },
     "metadata": {
      "needs_background": "light"
     },
     "output_type": "display_data"
    }
   ],
   "source": [
    "from matplotlib import cm\n",
    "counts_kw_copy = counts_kw.copy()\n",
    "counts_kw_copy[counts_kw_copy == 0] = np.nan\n",
    "plt.imshow(counts_kw_copy, vmin=-counts_kw.max(), vmax=counts_kw.max(), cmap=cm.RdBu_r)"
   ]
  },
  {
   "cell_type": "code",
   "execution_count": 209,
   "metadata": {
    "ExecuteTime": {
     "end_time": "2020-09-25T05:08:22.175653Z",
     "start_time": "2020-09-25T05:08:19.773239Z"
    }
   },
   "outputs": [
    {
     "data": {
      "text/plain": [
       "array([<matplotlib.axes._subplots.AxesSubplot object at 0x7fc8ad67d390>,\n",
       "       <matplotlib.axes._subplots.AxesSubplot object at 0x7fc8c6595790>,\n",
       "       <matplotlib.axes._subplots.AxesSubplot object at 0x7fc8f72e6dd0>,\n",
       "       <matplotlib.axes._subplots.AxesSubplot object at 0x7fc8f7167f90>,\n",
       "       <matplotlib.axes._subplots.AxesSubplot object at 0x7fc8f70f8b10>,\n",
       "       <matplotlib.axes._subplots.AxesSubplot object at 0x7fc8c6512cd0>,\n",
       "       <matplotlib.axes._subplots.AxesSubplot object at 0x7fc8ad75b850>,\n",
       "       <matplotlib.axes._subplots.AxesSubplot object at 0x7fc8ad58fed0>,\n",
       "       <matplotlib.axes._subplots.AxesSubplot object at 0x7fc8ad597a10>,\n",
       "       <matplotlib.axes._subplots.AxesSubplot object at 0x7fc8ad53d250>,\n",
       "       <matplotlib.axes._subplots.AxesSubplot object at 0x7fc8ad4fadd0>,\n",
       "       <matplotlib.axes._subplots.AxesSubplot object at 0x7fc8ad518950>,\n",
       "       <matplotlib.axes._subplots.AxesSubplot object at 0x7fc8ad4b6fd0>],\n",
       "      dtype=object)"
      ]
     },
     "execution_count": 209,
     "metadata": {},
     "output_type": "execute_result"
    },
    {
     "data": {
      "image/png": "[encoded data removed]",
      "text/plain": [
       "<Figure size 432x288 with 13 Axes>"
      ]
     },
     "metadata": {
      "needs_background": "light"
     },
     "output_type": "display_data"
    }
   ],
   "source": [
    "df.plot.bar(subplots=True)"
   ]
  },
  {
   "cell_type": "code",
   "execution_count": 207,
   "metadata": {
    "ExecuteTime": {
     "end_time": "2020-09-25T05:06:38.578735Z",
     "start_time": "2020-09-25T05:06:38.316464Z"
    }
   },
   "outputs": [
    {
     "data": {
      "text/plain": [
       "<matplotlib.axes._subplots.AxesSubplot at 0x7fc8f736fc10>"
      ]
     },
     "execution_count": 207,
     "metadata": {},
     "output_type": "execute_result"
    },
    {
     "data": {
      "image/png": "[encoded data removed]",
      "text/plain": [
       "<Figure size 432x288 with 1 Axes>"
      ]
     },
     "metadata": {
      "needs_background": "light"
     },
     "output_type": "display_data"
    }
   ],
   "source": [
    "df.plot.area()"
   ]
  },
  {
   "cell_type": "code",
   "execution_count": 257,
   "metadata": {
    "ExecuteTime": {
     "end_time": "2020-09-25T05:20:11.128639Z",
     "start_time": "2020-09-25T05:20:11.124746Z"
    }
   },
   "outputs": [
    {
     "data": {
      "text/plain": [
       "array([[ 74413.,  19585.,  10466.,      0.,      0.],\n",
       "       [     0.,  22411.,   9324.,   3713.,      0.],\n",
       "       [     0.,      0., 113171.,  28318.,  11816.],\n",
       "       [     0.,      0.,      0.,  69184.,  17114.],\n",
       "       [     0.,      0.,      0.,      0.,  76136.]])"
      ]
     },
     "execution_count": 257,
     "metadata": {},
     "output_type": "execute_result"
    }
   ],
   "source": [
    "counts_kw[:5, :5]"
   ]
  },
  {
   "cell_type": "code",
   "execution_count": 256,
   "metadata": {
    "ExecuteTime": {
     "end_time": "2020-09-25T05:19:59.937243Z",
     "start_time": "2020-09-25T05:19:59.932892Z"
    }
   },
   "outputs": [
    {
     "data": {
      "text/plain": [
       "array([[ 74413.,  19585.,  10466.,      0.,      0.],\n",
       "       [ 74413.,  41996.,  19790.,   3713.,      0.],\n",
       "       [ 74413.,  41996., 132961.,  32031.,  11816.],\n",
       "       [ 74413.,  41996., 132961., 101215.,  28930.],\n",
       "       [ 74413.,  41996., 132961., 101215., 105066.]])"
      ]
     },
     "execution_count": 256,
     "metadata": {},
     "output_type": "execute_result"
    }
   ],
   "source": []
  },
  {
   "cell_type": "code",
   "execution_count": 274,
   "metadata": {
    "ExecuteTime": {
     "end_time": "2020-09-25T05:25:11.119206Z",
     "start_time": "2020-09-25T05:25:11.116248Z"
    }
   },
   "outputs": [],
   "source": [
    "\n",
    "plt.style.use('ggplot')"
   ]
  },
  {
   "cell_type": "code",
   "execution_count": 280,
   "metadata": {
    "ExecuteTime": {
     "end_time": "2020-09-25T05:26:35.108728Z",
     "start_time": "2020-09-25T05:26:35.105929Z"
    }
   },
   "outputs": [],
   "source": [
    "\n",
    "import matplotlib as mpl\n",
    "import numpy as np\n",
    "\n",
    "# Set the default color cycle\n",
    "\n",
    "mpl.rcParams['axes.prop_cycle'] = mpl.cycler(color=[\"r\", \"k\", \"c\"]) "
   ]
  },
  {
   "cell_type": "code",
   "execution_count": 314,
   "metadata": {
    "ExecuteTime": {
     "end_time": "2020-09-25T05:42:35.857090Z",
     "start_time": "2020-09-25T05:42:35.854604Z"
    }
   },
   "outputs": [],
   "source": [
    "import seaborn as sns\n",
    "sns.set_style(\"whitegrid\")"
   ]
  },
  {
   "cell_type": "code",
   "execution_count": 315,
   "metadata": {
    "ExecuteTime": {
     "end_time": "2020-09-25T05:42:36.205505Z",
     "start_time": "2020-09-25T05:42:36.199967Z"
    }
   },
   "outputs": [],
   "source": [
    "clrs = sns.color_palette('gist_ncar', n_colors=13)\n",
    "\n",
    "mpl.rcParams['axes.prop_cycle'] = mpl.cycler(color=clrs) "
   ]
  },
  {
   "cell_type": "code",
   "execution_count": 319,
   "metadata": {
    "ExecuteTime": {
     "end_time": "2020-09-25T05:44:32.433889Z",
     "start_time": "2020-09-25T05:44:31.743725Z"
    }
   },
   "outputs": [
    {
     "data": {
      "image/png": "[encoded data removed]",
      "text/plain": [
       "<Figure size 648x432 with 1 Axes>"
      ]
     },
     "metadata": {},
     "output_type": "display_data"
    }
   ],
   "source": [
    "fig, axis = plt.subplots(1, 1, figsize=(9,6))\n",
    "\n",
    "shifted_cum_counts_kw = np.concatenate((np.zeros(n_k)[None, :], counts_kw.cumsum(axis=0)), axis=0)\n",
    "x_k = np.arange(1, n_k + 1)\n",
    "\n",
    "for k_idx in range(n_k):\n",
    "    p1 = axis.bar(x_k, counts_kw[k_idx], 0.9, \n",
    "                 bottom=shifted_cum_counts_kw[k_idx], label=k_idx + 1)\n",
    "axis.xaxis.set_ticks(np.arange(1, 14, 1))\n",
    "axis.set_title('Participants funnel. \\nColors show participants that came first at a given week')\n",
    "axis.set_xlabel('Num of survey')\n",
    "axis.set_ylabel('Num of participants')\n",
    "axis.legend()\n",
    "fig.savefig('../figures/participants_funnel.png')"
   ]
  },
  {
   "cell_type": "code",
   "execution_count": 96,
   "metadata": {
    "ExecuteTime": {
     "end_time": "2020-09-25T04:33:31.625083Z",
     "start_time": "2020-09-25T04:33:31.612461Z"
    }
   },
   "outputs": [],
   "source": [
    "df1.index = df1.SCRAM\n",
    "df2.index = df2.SCRAM"
   ]
  },
  {
   "cell_type": "code",
   "execution_count": 97,
   "metadata": {
    "ExecuteTime": {
     "end_time": "2020-09-25T04:33:32.007709Z",
     "start_time": "2020-09-25T04:33:31.941193Z"
    },
    "scrolled": true
   },
   "outputs": [
    {
     "data": {
      "text/html": [
       "<div>\n",
       "<style scoped>\n",
       "    .dataframe tbody tr th:only-of-type {\n",
       "        vertical-align: middle;\n",
       "    }\n",
       "\n",
       "    .dataframe tbody tr th {\n",
       "        vertical-align: top;\n",
       "    }\n",
       "\n",
       "    .dataframe thead th {\n",
       "        text-align: right;\n",
       "    }\n",
       "</style>\n",
       "<table border=\"1\" class=\"dataframe\">\n",
       "  <thead>\n",
       "    <tr style=\"text-align: right;\">\n",
       "      <th></th>\n",
       "      <th>SCRAM_x</th>\n",
       "      <th>WEEK_x</th>\n",
       "      <th>SCRAM_y</th>\n",
       "      <th>WEEK_y</th>\n",
       "    </tr>\n",
       "    <tr>\n",
       "      <th>SCRAM</th>\n",
       "      <th></th>\n",
       "      <th></th>\n",
       "      <th></th>\n",
       "      <th></th>\n",
       "    </tr>\n",
       "  </thead>\n",
       "  <tbody>\n",
       "    <tr>\n",
       "      <th>V010000001S10011099370111</th>\n",
       "      <td>V010000001S10011099370111</td>\n",
       "      <td>1.0</td>\n",
       "      <td>NaN</td>\n",
       "      <td>NaN</td>\n",
       "    </tr>\n",
       "    <tr>\n",
       "      <th>V010000001S10011900470112</th>\n",
       "      <td>V010000001S10011900470112</td>\n",
       "      <td>1.0</td>\n",
       "      <td>V010000001S10011900470112</td>\n",
       "      <td>2.0</td>\n",
       "    </tr>\n",
       "    <tr>\n",
       "      <th>V010000001S18010744940111</th>\n",
       "      <td>V010000001S18010744940111</td>\n",
       "      <td>1.0</td>\n",
       "      <td>NaN</td>\n",
       "      <td>NaN</td>\n",
       "    </tr>\n",
       "    <tr>\n",
       "      <th>V010000001S37010301340112</th>\n",
       "      <td>V010000001S37010301340112</td>\n",
       "      <td>1.0</td>\n",
       "      <td>NaN</td>\n",
       "      <td>NaN</td>\n",
       "    </tr>\n",
       "    <tr>\n",
       "      <th>V010000001S37010480340111</th>\n",
       "      <td>V010000001S37010480340111</td>\n",
       "      <td>1.0</td>\n",
       "      <td>NaN</td>\n",
       "      <td>NaN</td>\n",
       "    </tr>\n",
       "    <tr>\n",
       "      <th>...</th>\n",
       "      <td>...</td>\n",
       "      <td>...</td>\n",
       "      <td>...</td>\n",
       "      <td>...</td>\n",
       "    </tr>\n",
       "    <tr>\n",
       "      <th>V029950005S53551995090021</th>\n",
       "      <td>NaN</td>\n",
       "      <td>NaN</td>\n",
       "      <td>V029950005S53551995090021</td>\n",
       "      <td>2.0</td>\n",
       "    </tr>\n",
       "    <tr>\n",
       "      <th>V029950005S78550018850011</th>\n",
       "      <td>NaN</td>\n",
       "      <td>NaN</td>\n",
       "      <td>V029950005S78550018850011</td>\n",
       "      <td>2.0</td>\n",
       "    </tr>\n",
       "    <tr>\n",
       "      <th>V029950006S12560322330011</th>\n",
       "      <td>NaN</td>\n",
       "      <td>NaN</td>\n",
       "      <td>V029950006S12560322330011</td>\n",
       "      <td>2.0</td>\n",
       "    </tr>\n",
       "    <tr>\n",
       "      <th>V029950006S91560331420011</th>\n",
       "      <td>NaN</td>\n",
       "      <td>NaN</td>\n",
       "      <td>V029950006S91560331420011</td>\n",
       "      <td>2.0</td>\n",
       "    </tr>\n",
       "    <tr>\n",
       "      <th>V029950006S93560476860011</th>\n",
       "      <td>NaN</td>\n",
       "      <td>NaN</td>\n",
       "      <td>V029950006S93560476860011</td>\n",
       "      <td>2.0</td>\n",
       "    </tr>\n",
       "  </tbody>\n",
       "</table>\n",
       "<p>96824 rows × 4 columns</p>\n",
       "</div>"
      ],
      "text/plain": [
       "                                             SCRAM_x  WEEK_x  \\\n",
       "SCRAM                                                          \n",
       "V010000001S10011099370111  V010000001S10011099370111     1.0   \n",
       "V010000001S10011900470112  V010000001S10011900470112     1.0   \n",
       "V010000001S18010744940111  V010000001S18010744940111     1.0   \n",
       "V010000001S37010301340112  V010000001S37010301340112     1.0   \n",
       "V010000001S37010480340111  V010000001S37010480340111     1.0   \n",
       "...                                              ...     ...   \n",
       "V029950005S53551995090021                        NaN     NaN   \n",
       "V029950005S78550018850011                        NaN     NaN   \n",
       "V029950006S12560322330011                        NaN     NaN   \n",
       "V029950006S91560331420011                        NaN     NaN   \n",
       "V029950006S93560476860011                        NaN     NaN   \n",
       "\n",
       "                                             SCRAM_y  WEEK_y  \n",
       "SCRAM                                                         \n",
       "V010000001S10011099370111                        NaN     NaN  \n",
       "V010000001S10011900470112  V010000001S10011900470112     2.0  \n",
       "V010000001S18010744940111                        NaN     NaN  \n",
       "V010000001S37010301340112                        NaN     NaN  \n",
       "V010000001S37010480340111                        NaN     NaN  \n",
       "...                                              ...     ...  \n",
       "V029950005S53551995090021  V029950005S53551995090021     2.0  \n",
       "V029950005S78550018850011  V029950005S78550018850011     2.0  \n",
       "V029950006S12560322330011  V029950006S12560322330011     2.0  \n",
       "V029950006S91560331420011  V029950006S91560331420011     2.0  \n",
       "V029950006S93560476860011  V029950006S93560476860011     2.0  \n",
       "\n",
       "[96824 rows x 4 columns]"
      ]
     },
     "execution_count": 97,
     "metadata": {},
     "output_type": "execute_result"
    }
   ],
   "source": [
    "pd.merge(df1, df2, how='outer', left_index=True, right_index=True)"
   ]
  },
  {
   "cell_type": "code",
   "execution_count": 81,
   "metadata": {
    "ExecuteTime": {
     "end_time": "2020-09-25T04:31:07.399083Z",
     "start_time": "2020-09-25T04:31:07.323002Z"
    },
    "scrolled": true
   },
   "outputs": [
    {
     "data": {
      "text/html": [
       "<div>\n",
       "<style scoped>\n",
       "    .dataframe tbody tr th:only-of-type {\n",
       "        vertical-align: middle;\n",
       "    }\n",
       "\n",
       "    .dataframe tbody tr th {\n",
       "        vertical-align: top;\n",
       "    }\n",
       "\n",
       "    .dataframe thead th {\n",
       "        text-align: right;\n",
       "    }\n",
       "</style>\n",
       "<table border=\"1\" class=\"dataframe\">\n",
       "  <thead>\n",
       "    <tr style=\"text-align: right;\">\n",
       "      <th></th>\n",
       "      <th>SCRAM</th>\n",
       "    </tr>\n",
       "  </thead>\n",
       "  <tbody>\n",
       "    <tr>\n",
       "      <th>0</th>\n",
       "      <td>V010000001S10011099370111</td>\n",
       "    </tr>\n",
       "    <tr>\n",
       "      <th>1</th>\n",
       "      <td>V010000001S10011900470112</td>\n",
       "    </tr>\n",
       "    <tr>\n",
       "      <th>2</th>\n",
       "      <td>V010000001S18010744940111</td>\n",
       "    </tr>\n",
       "    <tr>\n",
       "      <th>3</th>\n",
       "      <td>V010000001S37010301340112</td>\n",
       "    </tr>\n",
       "    <tr>\n",
       "      <th>4</th>\n",
       "      <td>V010000001S37010480340111</td>\n",
       "    </tr>\n",
       "    <tr>\n",
       "      <th>...</th>\n",
       "      <td>...</td>\n",
       "    </tr>\n",
       "    <tr>\n",
       "      <th>96819</th>\n",
       "      <td>V029950005S53551995090021</td>\n",
       "    </tr>\n",
       "    <tr>\n",
       "      <th>96820</th>\n",
       "      <td>V029950005S78550018850011</td>\n",
       "    </tr>\n",
       "    <tr>\n",
       "      <th>96821</th>\n",
       "      <td>V029950006S12560322330011</td>\n",
       "    </tr>\n",
       "    <tr>\n",
       "      <th>96822</th>\n",
       "      <td>V029950006S91560331420011</td>\n",
       "    </tr>\n",
       "    <tr>\n",
       "      <th>96823</th>\n",
       "      <td>V029950006S93560476860011</td>\n",
       "    </tr>\n",
       "  </tbody>\n",
       "</table>\n",
       "<p>96824 rows × 1 columns</p>\n",
       "</div>"
      ],
      "text/plain": [
       "                           SCRAM\n",
       "0      V010000001S10011099370111\n",
       "1      V010000001S10011900470112\n",
       "2      V010000001S18010744940111\n",
       "3      V010000001S37010301340112\n",
       "4      V010000001S37010480340111\n",
       "...                          ...\n",
       "96819  V029950005S53551995090021\n",
       "96820  V029950005S78550018850011\n",
       "96821  V029950006S12560322330011\n",
       "96822  V029950006S91560331420011\n",
       "96823  V029950006S93560476860011\n",
       "\n",
       "[96824 rows x 1 columns]"
      ]
     },
     "execution_count": 81,
     "metadata": {},
     "output_type": "execute_result"
    }
   ],
   "source": [
    "pd.merge(data[1][['SCRAM']], data[2][['SCRAM']], how='outer', on='SCRAM')"
   ]
  },
  {
   "cell_type": "markdown",
   "metadata": {},
   "source": [
    "# EDA"
   ]
  },
  {
   "cell_type": "code",
   "execution_count": 17,
   "metadata": {
    "ExecuteTime": {
     "end_time": "2020-09-25T03:38:48.446732Z",
     "start_time": "2020-09-25T03:38:48.404706Z"
    }
   },
   "outputs": [
    {
     "data": {
      "text/plain": [
       "white    61376\n",
       "black     6258\n",
       "other     3472\n",
       "asian     3307\n",
       "Name: RRACE, dtype: int64"
      ]
     },
     "execution_count": 17,
     "metadata": {},
     "output_type": "execute_result"
    }
   ],
   "source": [
    "race_from_num = {\n",
    "    1: 'white',\n",
    "    2: 'black',\n",
    "    3: 'asian',\n",
    "    4: 'other',\n",
    "}\n",
    "\n",
    "df['RRACE'].apply(lambda x: race_from_num[x]).value_counts()"
   ]
  },
  {
   "cell_type": "code",
   "execution_count": null,
   "metadata": {},
   "outputs": [],
   "source": [
    "var = 'WRKLOSS'\n"
   ]
  }
 ],
 "metadata": {
  "kernelspec": {
   "display_name": "Python 3",
   "language": "python",
   "name": "python3"
  },
  "language_info": {
   "codemirror_mode": {
    "name": "ipython",
    "version": 3
   },
   "file_extension": ".py",
   "mimetype": "text/x-python",
   "name": "python",
   "nbconvert_exporter": "python",
   "pygments_lexer": "ipython3",
   "version": "3.7.6"
  },
  "toc": {
   "base_numbering": 1,
   "nav_menu": {},
   "number_sections": true,
   "sideBar": true,
   "skip_h1_title": false,
   "title_cell": "Table of Contents",
   "title_sidebar": "Contents",
   "toc_cell": false,
   "toc_position": {},
   "toc_section_display": true,
   "toc_window_display": false
  }
 },
 "nbformat": 4,
 "nbformat_minor": 4
}
