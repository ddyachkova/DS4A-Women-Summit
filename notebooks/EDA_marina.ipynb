{
 "cells": [
  {
   "cell_type": "code",
   "execution_count": 1,
   "metadata": {
    "ExecuteTime": {
     "end_time": "2020-09-25T19:25:48.676199Z",
     "start_time": "2020-09-25T19:25:48.106124Z"
    },
    "scrolled": true
   },
   "outputs": [],
   "source": [
    "import numpy as np\n",
    "import pandas as pd\n",
    "\n",
    "import matplotlib.pyplot as plt"
   ]
  },
  {
   "cell_type": "markdown",
   "metadata": {},
   "source": [
    "# Load data"
   ]
  },
  {
   "cell_type": "code",
   "execution_count": 2,
   "metadata": {
    "ExecuteTime": {
     "end_time": "2020-09-25T19:25:56.278567Z",
     "start_time": "2020-09-25T19:25:48.677646Z"
    }
   },
   "outputs": [],
   "source": [
    "# # description file -- not pandas-friendly\n",
    "# df_dict = pd.read_excel('../data/pulse2020_data.dictionary_CSV_01.xlsx')\n",
    "WEEK_IDX_RANGE = range(1, 14)\n",
    "\n",
    "data = {\n",
    "    n: pd.read_csv(f'../data/pulse2020_puf_{n:02d}.csv')\n",
    "    for n in WEEK_IDX_RANGE\n",
    "}\n",
    "df = pd.read_csv('../data/pulse2020_puf_01.csv')"
   ]
  },
  {
   "cell_type": "code",
   "execution_count": 3,
   "metadata": {
    "ExecuteTime": {
     "end_time": "2020-09-25T19:25:56.551407Z",
     "start_time": "2020-09-25T19:25:56.287859Z"
    }
   },
   "outputs": [],
   "source": [
    "# check each participant has one entry in a given survey\n",
    "for n in WEEK_IDX_RANGE:\n",
    "    assert len(data[n]['SCRAM'].unique()) == len(data[n])"
   ]
  },
  {
   "cell_type": "code",
   "execution_count": 8,
   "metadata": {
    "ExecuteTime": {
     "end_time": "2020-09-25T19:27:04.596076Z",
     "start_time": "2020-09-25T19:27:04.593061Z"
    },
    "scrolled": true
   },
   "outputs": [],
   "source": [
    "# base_week_idx = 6\n",
    "\n",
    "# init_scram_set = set(data[base_week_idx]['SCRAM'])\n",
    "# people_funnel = [len(init_scram_set)]\n",
    "\n",
    "# for n in WEEK_IDX_RANGE[base_week_idx:]:\n",
    "#     intersect_scram_set = init_scram_set.intersection(set(data[n]['SCRAM']))\n",
    "#     people_funnel.append(len(intersect_scram_set))\n",
    "\n",
    "# people_funnel"
   ]
  },
  {
   "cell_type": "code",
   "execution_count": 25,
   "metadata": {
    "ExecuteTime": {
     "end_time": "2020-09-25T20:05:23.619512Z",
     "start_time": "2020-09-25T20:05:23.608409Z"
    }
   },
   "outputs": [],
   "source": [
    "from functools import reduce\n",
    "\n",
    "def get_participants_counts_matrix(data):\n",
    "    df_list = []\n",
    "    for week_idx, tmp_df in data.items():\n",
    "        # make a df with column WEEK IDX \n",
    "        # which is has value WEEK IDX for participants of that week's survey\n",
    "        tmp_df = tmp_df[['SCRAM']].copy()\n",
    "        tmp_df.index = tmp_df.SCRAM\n",
    "        tmp_df[str(week_idx)] = week_idx\n",
    "        del tmp_df['SCRAM']\n",
    "        df_list.append(tmp_df)\n",
    "\n",
    "    # merge all dfs on SCRAM\n",
    "    kwargs = dict(how='outer', left_index=True, right_index=True, )\n",
    "    out = reduce(lambda x, y: pd.merge(x, y, **kwargs), df_list)\n",
    "\n",
    "    # create matrix of size (n, k) = (num of all unique participants, number of weeks)\n",
    "    # that propagates the idx of week when a person first joined \n",
    "    # to all following weeks IN WHICH this person participated\n",
    "    out_nk = out.values\n",
    "    is_valid_nk = np.isfinite(out_nk)\n",
    "    out_nk[~is_valid_nk] = 100000\n",
    "    out_nk = np.minimum.accumulate(out_nk, axis=1)\n",
    "    out_nk[~is_valid_nk] = -1\n",
    "\n",
    "    dim_k = out_nk.shape[1]\n",
    "    # where k means from which week a person started to participate\n",
    "    # and w is the week we are looking at to\n",
    "    counts_kw = np.zeros((dim_k, dim_k))\n",
    "    for k_idx in range(dim_k):\n",
    "        counts_kw[k_idx] = (out_nk == k_idx + 1).sum(axis=0)\n",
    "\n",
    "    df = pd.DataFrame(data=counts_kw, \n",
    "                      index=np.arange(1, dim_k + 1), \n",
    "                      columns=np.arange(1, dim_k + 1))\n",
    "    df.index.name = 'start week idx'\n",
    "    return df"
   ]
  },
  {
   "cell_type": "code",
   "execution_count": 54,
   "metadata": {
    "ExecuteTime": {
     "end_time": "2020-09-25T20:17:07.344243Z",
     "start_time": "2020-09-25T20:17:04.345274Z"
    }
   },
   "outputs": [],
   "source": [
    "df_kw = get_participants_counts_matrix(data)\n",
    "# df_kw.to_csv('../data/participants_counts.csv')\n",
    "counts_kw = df_kw.values"
   ]
  },
  {
   "cell_type": "code",
   "execution_count": 48,
   "metadata": {
    "ExecuteTime": {
     "end_time": "2020-09-25T20:15:32.409123Z",
     "start_time": "2020-09-25T20:15:32.233469Z"
    }
   },
   "outputs": [],
   "source": [
    "# check sum of paricipants for each week is same\n",
    "weekly_num_people = np.array([len(data[i])for i in WEEK_IDX_RANGE])\n",
    "assert ((df_kw.values.sum(axis=0) - weekly_num_people) == 0).all()\n",
    "\n",
    "unique_person_ids = set()\n",
    "for i in WEEK_IDX_RANGE:\n",
    "    unique_person_ids.update(data[i]['SCRAM'].values)\n",
    "assert np.diag(df_kw.values).sum() == len(unique_person_ids)"
   ]
  },
  {
   "cell_type": "code",
   "execution_count": 53,
   "metadata": {
    "ExecuteTime": {
     "end_time": "2020-09-25T20:16:15.263640Z",
     "start_time": "2020-09-25T20:16:15.043342Z"
    }
   },
   "outputs": [
    {
     "data": {
      "text/plain": [
       "<matplotlib.image.AxesImage at 0x7f144a718210>"
      ]
     },
     "execution_count": 53,
     "metadata": {},
     "output_type": "execute_result"
    },
    {
     "data": {
      "image/png": "[encoded data removed]",
      "text/plain": [
       "<Figure size 432x288 with 1 Axes>"
      ]
     },
     "metadata": {},
     "output_type": "display_data"
    }
   ],
   "source": [
    "from matplotlib import cm\n",
    "\n",
    "counts_kw_copy = counts_kw.copy()\n",
    "counts_kw_copy[counts_kw_copy == 0] = np.nan\n",
    "plt.imshow(counts_kw_copy, vmin=-counts_kw.max(), vmax=counts_kw.max(), cmap=cm.RdBu_r)"
   ]
  },
  {
   "cell_type": "code",
   "execution_count": 50,
   "metadata": {
    "ExecuteTime": {
     "end_time": "2020-09-25T20:15:53.627133Z",
     "start_time": "2020-09-25T20:15:53.266883Z"
    }
   },
   "outputs": [],
   "source": [
    "import seaborn as sns\n",
    "sns.set_style(\"whitegrid\")\n",
    "\n",
    "import matplotlib as mpl\n",
    "import numpy as np\n",
    "\n",
    "# Set the default color cycle\n",
    "\n",
    "mpl.rcParams['axes.prop_cycle'] = mpl.cycler(color=[\"r\", \"k\", \"c\"]) "
   ]
  },
  {
   "cell_type": "code",
   "execution_count": 51,
   "metadata": {
    "ExecuteTime": {
     "end_time": "2020-09-25T20:15:56.391929Z",
     "start_time": "2020-09-25T20:15:56.385149Z"
    }
   },
   "outputs": [],
   "source": [
    "clrs = sns.color_palette('gist_ncar', n_colors=13)\n",
    "\n",
    "mpl.rcParams['axes.prop_cycle'] = mpl.cycler(color=clrs) "
   ]
  },
  {
   "cell_type": "code",
   "execution_count": 52,
   "metadata": {
    "ExecuteTime": {
     "end_time": "2020-09-25T20:15:57.746281Z",
     "start_time": "2020-09-25T20:15:56.829218Z"
    }
   },
   "outputs": [
    {
     "data": {
      "image/png": "[encoded data removed]",
      "text/plain": [
       "<Figure size 648x432 with 1 Axes>"
      ]
     },
     "metadata": {},
     "output_type": "display_data"
    }
   ],
   "source": [
    "fig, axis = plt.subplots(1, 1, figsize=(9,6))\n",
    "\n",
    "shifted_cum_counts_kw = np.concatenate((np.zeros(n_k)[None, :], counts_kw.cumsum(axis=0)), axis=0)\n",
    "x_k = np.arange(1, n_k + 1)\n",
    "\n",
    "for k_idx in range(n_k):\n",
    "    p1 = axis.bar(x_k, counts_kw[k_idx], 0.9, \n",
    "                 bottom=shifted_cum_counts_kw[k_idx], label=k_idx + 1)\n",
    "axis.xaxis.set_ticks(np.arange(1, 14, 1))\n",
    "axis.set_title('Participants funnel. \\nColors show participants that came first at a given week')\n",
    "axis.set_xlabel('Num of survey')\n",
    "axis.set_ylabel('Num of participants')\n",
    "axis.legend()\n",
    "fig.savefig('../figures/participants_funnel.png')"
   ]
  },
  {
   "cell_type": "markdown",
   "metadata": {},
   "source": [
    "# EDA"
   ]
  },
  {
   "cell_type": "code",
   "execution_count": 17,
   "metadata": {
    "ExecuteTime": {
     "end_time": "2020-09-25T03:38:48.446732Z",
     "start_time": "2020-09-25T03:38:48.404706Z"
    }
   },
   "outputs": [
    {
     "data": {
      "text/plain": [
       "white    61376\n",
       "black     6258\n",
       "other     3472\n",
       "asian     3307\n",
       "Name: RRACE, dtype: int64"
      ]
     },
     "execution_count": 17,
     "metadata": {},
     "output_type": "execute_result"
    }
   ],
   "source": [
    "race_from_num = {\n",
    "    1: 'white',\n",
    "    2: 'black',\n",
    "    3: 'asian',\n",
    "    4: 'other',\n",
    "}\n",
    "\n",
    "df['RRACE'].apply(lambda x: race_from_num[x]).value_counts()"
   ]
  },
  {
   "cell_type": "code",
   "execution_count": null,
   "metadata": {},
   "outputs": [],
   "source": [
    "var = 'WRKLOSS'\n"
   ]
  }
 ],
 "metadata": {
  "kernelspec": {
   "display_name": "Python 3",
   "language": "python",
   "name": "python3"
  },
  "language_info": {
   "codemirror_mode": {
    "name": "ipython",
    "version": 3
   },
   "file_extension": ".py",
   "mimetype": "text/x-python",
   "name": "python",
   "nbconvert_exporter": "python",
   "pygments_lexer": "ipython3",
   "version": "3.7.6"
  },
  "toc": {
   "base_numbering": 1,
   "nav_menu": {},
   "number_sections": true,
   "sideBar": true,
   "skip_h1_title": false,
   "title_cell": "Table of Contents",
   "title_sidebar": "Contents",
   "toc_cell": false,
   "toc_position": {},
   "toc_section_display": true,
   "toc_window_display": false
  }
 },
 "nbformat": 4,
 "nbformat_minor": 4
}
