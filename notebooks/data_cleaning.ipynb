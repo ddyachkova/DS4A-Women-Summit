{
 "cells": [
  {
   "cell_type": "markdown",
   "metadata": {},
   "source": [
    "## Load modules"
   ]
  },
  {
   "cell_type": "code",
   "execution_count": 13,
   "metadata": {},
   "outputs": [],
   "source": [
    "import os\n",
    "import pandas as pd\n",
    "import seaborn as sns\n",
    "import matplotlib.pyplot as plt\n",
    "from datetime import timedelta, date, datetime"
   ]
  },
  {
   "cell_type": "markdown",
   "metadata": {},
   "source": [
    "## Combine all weeks"
   ]
  },
  {
   "cell_type": "code",
   "execution_count": 2,
   "metadata": {},
   "outputs": [],
   "source": [
    "base_name='pulse2020_puf_'\n",
    "df_lists=[]\n",
    "\n",
    "for f in os.listdir('../data'):\n",
    "    if base_name in f:\n",
    "        data=pd.read_csv(os.path.join('../data',f))\n",
    "        #print(data.head())\n",
    "        df_lists.append(data)\n",
    "final_data = pd.concat(df_lists)\n",
    "# final_data.to_excel(os.path.join('../data',base_name+'all.xlsx'))"
   ]
  },
  {
   "cell_type": "markdown",
   "metadata": {},
   "source": [
    "## Data Cleaning"
   ]
  },
  {
   "cell_type": "markdown",
   "metadata": {},
   "source": [
    "Check which any value is empty"
   ]
  },
  {
   "cell_type": "code",
   "execution_count": 3,
   "metadata": {},
   "outputs": [
    {
     "data": {
      "text/plain": [
       "True"
      ]
     },
     "execution_count": 3,
     "metadata": {},
     "output_type": "execute_result"
    }
   ],
   "source": [
    "final_data.isnull().values.any()"
   ]
  },
  {
   "cell_type": "markdown",
   "metadata": {},
   "source": [
    "Check how many values are empty"
   ]
  },
  {
   "cell_type": "code",
   "execution_count": 4,
   "metadata": {},
   "outputs": [
    {
     "data": {
      "text/plain": [
       "123743289"
      ]
     },
     "execution_count": 4,
     "metadata": {},
     "output_type": "execute_result"
    }
   ],
   "source": [
    " final_data.isnull().sum().sum()"
   ]
  },
  {
   "cell_type": "markdown",
   "metadata": {},
   "source": [
    "Check which columns are empty"
   ]
  },
  {
   "cell_type": "code",
   "execution_count": 5,
   "metadata": {
    "scrolled": true
   },
   "outputs": [
    {
     "name": "stdout",
     "output_type": "stream",
     "text": [
      "['EST_MSA', 'MORTLMTH', 'TSCHLHRS', 'TTCH_HRS', 'CHILDFOOD', 'TSTDY_HRS', 'EIP', 'EIPSPND1', 'EIPSPND2', 'EIPSPND3', 'EIPSPND4', 'EIPSPND5', 'EIPSPND6', 'EIPSPND7', 'EIPSPND8', 'EIPSPND9', 'EIPSPND10', 'EIPSPND11', 'EIPSPND12', 'EIPSPND13', 'SPNDSRC1', 'SPNDSRC2', 'SPNDSRC3', 'SPNDSRC4', 'SPNDSRC5', 'SPNDSRC6', 'SPNDSRC7', 'REGION', 'HWEIGHT', 'TW_START', 'UI_APPLY', 'UI_RECV', 'TUI_NUMPER', 'SSA_RECV', 'SSA_APPLY', 'SSAPGM1', 'SSAPGM2', 'SSAPGM3', 'SSAPGM4', 'SSAPGM5', 'SSALIKELY', 'SSAEXPCT1', 'SSAEXPCT2', 'SSAEXPCT3', 'SSAEXPCT4', 'SSAEXPCT5', 'SSADECISN', 'EXPNS_DIF', 'CHNGHOW1', 'CHNGHOW2', 'CHNGHOW3', 'CHNGHOW4', 'CHNGHOW5', 'CHNGHOW6', 'CHNGHOW7', 'CHNGHOW8', 'CHNGHOW9', 'CHNGHOW10', 'CHNGHOW11', 'CHNGHOW12', 'WHYCHNGD1', 'WHYCHNGD2', 'WHYCHNGD3', 'WHYCHNGD4', 'WHYCHNGD5', 'WHYCHNGD6', 'WHYCHNGD7', 'WHYCHNGD8', 'WHYCHNGD9', 'WHYCHNGD10', 'WHYCHNGD11', 'WHYCHNGD12', 'WHYCHNGD13', 'SPNDSRC8', 'FEWRTRIPS', 'FEWRTRANS', 'PLNDTRIPS', 'CNCLDTRPS', 'SNAP_YN', 'SNAPMNTH1', 'SNAPMNTH2', 'SNAPMNTH3', 'SNAPMNTH4', 'SNAPMNTH5', 'SNAPMNTH6', 'SNAPMNTH7', 'SNAPMNTH8', 'SNAPMNTH9', 'SNAPMNTH10', 'SNAPMNTH11', 'SNAPMNTH12', 'PRIVHLTH', 'PUBHLTH', 'PRESCRIPT', 'MH_SVCS', 'MH_NOTGET', 'LIVQTR', 'TBEDROOMS', 'RENTCUR', 'MORTCUR', 'EVICT', 'FORCLOSE', 'SCHLHRS', 'TCH_HRS', 'TNUM_PS', 'PSPLANS1', 'PSPLANS2', 'PSPLANS3', 'PSPLANS4', 'PSPLANS5', 'PSPLANS6', 'PSCHNG1', 'PSCHNG2', 'PSCHNG3', 'PSCHNG4', 'PSCHNG5', 'PSCHNG6', 'PSCHNG7', 'PSWHYCHG1', 'PSWHYCHG2', 'PSWHYCHG3', 'PSWHYCHG4', 'PSWHYCHG5', 'PSWHYCHG6', 'PSWHYCHG7', 'PSWHYCHG8', 'PSWHYCHG9']\n"
     ]
    }
   ],
   "source": [
    "empty_cols = [col for col in final_data.columns if final_data[col].isnull().any()]\n",
    "print(empty_cols)"
   ]
  },
  {
   "cell_type": "markdown",
   "metadata": {},
   "source": [
    "For each columns, how many values are missing"
   ]
  },
  {
   "cell_type": "code",
   "execution_count": 6,
   "metadata": {},
   "outputs": [
    {
     "name": "stdout",
     "output_type": "stream",
     "text": [
      "EST_MSA 0.6921089225090093\n",
      "MORTLMTH 0.09107582065619088\n",
      "TSCHLHRS 0.09107582065619088\n",
      "TTCH_HRS 0.09107582065619088\n",
      "CHILDFOOD 0.3805447795784911\n",
      "TSTDY_HRS 0.3805447795784911\n",
      "EIP 0.5411917001081542\n",
      "EIPSPND1 0.5411917001081542\n",
      "EIPSPND2 0.5411917001081542\n",
      "EIPSPND3 0.5411917001081542\n",
      "EIPSPND4 0.5411917001081542\n",
      "EIPSPND5 0.5411917001081542\n",
      "EIPSPND6 0.5411917001081542\n",
      "EIPSPND7 0.5411917001081542\n",
      "EIPSPND8 0.5411917001081542\n",
      "EIPSPND9 0.5411917001081542\n",
      "EIPSPND10 0.5411917001081542\n",
      "EIPSPND11 0.5411917001081542\n",
      "EIPSPND12 0.5411917001081542\n",
      "EIPSPND13 0.5411917001081542\n",
      "SPNDSRC1 0.4501158794519633\n",
      "SPNDSRC2 0.4501158794519633\n",
      "SPNDSRC3 0.4501158794519633\n",
      "SPNDSRC4 0.4501158794519633\n",
      "SPNDSRC5 0.4501158794519633\n",
      "SPNDSRC6 0.4501158794519633\n",
      "SPNDSRC7 0.4501158794519633\n",
      "REGION 0.9089241793438091\n",
      "HWEIGHT 0.9089241793438091\n",
      "TW_START 0.9089241793438091\n",
      "UI_APPLY 0.9089241793438091\n",
      "UI_RECV 0.9089241793438091\n",
      "TUI_NUMPER 0.9089241793438091\n",
      "SSA_RECV 0.9089241793438091\n",
      "SSA_APPLY 0.9089241793438091\n",
      "SSAPGM1 0.9089241793438091\n",
      "SSAPGM2 0.9089241793438091\n",
      "SSAPGM3 0.9089241793438091\n",
      "SSAPGM4 0.9089241793438091\n",
      "SSAPGM5 0.9089241793438091\n",
      "SSALIKELY 0.9089241793438091\n",
      "SSAEXPCT1 0.9089241793438091\n",
      "SSAEXPCT2 0.9089241793438091\n",
      "SSAEXPCT3 0.9089241793438091\n",
      "SSAEXPCT4 0.9089241793438091\n",
      "SSAEXPCT5 0.9089241793438091\n",
      "SSADECISN 0.9089241793438091\n",
      "EXPNS_DIF 0.9089241793438091\n",
      "CHNGHOW1 0.9089241793438091\n",
      "CHNGHOW2 0.9089241793438091\n",
      "CHNGHOW3 0.9089241793438091\n",
      "CHNGHOW4 0.9089241793438091\n",
      "CHNGHOW5 0.9089241793438091\n",
      "CHNGHOW6 0.9089241793438091\n",
      "CHNGHOW7 0.9089241793438091\n",
      "CHNGHOW8 0.9089241793438091\n",
      "CHNGHOW9 0.9089241793438091\n",
      "CHNGHOW10 0.9089241793438091\n",
      "CHNGHOW11 0.9089241793438091\n",
      "CHNGHOW12 0.9089241793438091\n",
      "WHYCHNGD1 0.9089241793438091\n",
      "WHYCHNGD2 0.9089241793438091\n",
      "WHYCHNGD3 0.9089241793438091\n",
      "WHYCHNGD4 0.9089241793438091\n",
      "WHYCHNGD5 0.9089241793438091\n",
      "WHYCHNGD6 0.9089241793438091\n",
      "WHYCHNGD7 0.9089241793438091\n",
      "WHYCHNGD8 0.9089241793438091\n",
      "WHYCHNGD9 0.9089241793438091\n",
      "WHYCHNGD10 0.9089241793438091\n",
      "WHYCHNGD11 0.9089241793438091\n",
      "WHYCHNGD12 0.9089241793438091\n",
      "WHYCHNGD13 0.9089241793438091\n",
      "SPNDSRC8 0.9089241793438091\n",
      "FEWRTRIPS 0.9089241793438091\n",
      "FEWRTRANS 0.9089241793438091\n",
      "PLNDTRIPS 0.9089241793438091\n",
      "CNCLDTRPS 0.9089241793438091\n",
      "SNAP_YN 0.9089241793438091\n",
      "SNAPMNTH1 0.9089241793438091\n",
      "SNAPMNTH2 0.9089241793438091\n",
      "SNAPMNTH3 0.9089241793438091\n",
      "SNAPMNTH4 0.9089241793438091\n",
      "SNAPMNTH5 0.9089241793438091\n",
      "SNAPMNTH6 0.9089241793438091\n",
      "SNAPMNTH7 0.9089241793438091\n",
      "SNAPMNTH8 0.9089241793438091\n",
      "SNAPMNTH9 0.9089241793438091\n",
      "SNAPMNTH10 0.9089241793438091\n",
      "SNAPMNTH11 0.9089241793438091\n",
      "SNAPMNTH12 0.9089241793438091\n",
      "PRIVHLTH 0.9089241793438091\n",
      "PUBHLTH 0.9089241793438091\n",
      "PRESCRIPT 0.9089241793438091\n",
      "MH_SVCS 0.9089241793438091\n",
      "MH_NOTGET 0.9089241793438091\n",
      "LIVQTR 0.9089241793438091\n",
      "TBEDROOMS 0.9089241793438091\n",
      "RENTCUR 0.9089241793438091\n",
      "MORTCUR 0.9089241793438091\n",
      "EVICT 0.9089241793438091\n",
      "FORCLOSE 0.9089241793438091\n",
      "SCHLHRS 0.9089241793438091\n",
      "TCH_HRS 0.9089241793438091\n",
      "TNUM_PS 0.9089241793438091\n",
      "PSPLANS1 0.9089241793438091\n",
      "PSPLANS2 0.9089241793438091\n",
      "PSPLANS3 0.9089241793438091\n",
      "PSPLANS4 0.9089241793438091\n",
      "PSPLANS5 0.9089241793438091\n",
      "PSPLANS6 0.9089241793438091\n",
      "PSCHNG1 0.9089241793438091\n",
      "PSCHNG2 0.9089241793438091\n",
      "PSCHNG3 0.9089241793438091\n",
      "PSCHNG4 0.9089241793438091\n",
      "PSCHNG5 0.9089241793438091\n",
      "PSCHNG6 0.9089241793438091\n",
      "PSCHNG7 0.9089241793438091\n",
      "PSWHYCHG1 0.9089241793438091\n",
      "PSWHYCHG2 0.9089241793438091\n",
      "PSWHYCHG3 0.9089241793438091\n",
      "PSWHYCHG4 0.9089241793438091\n",
      "PSWHYCHG5 0.9089241793438091\n",
      "PSWHYCHG6 0.9089241793438091\n",
      "PSWHYCHG7 0.9089241793438091\n",
      "PSWHYCHG8 0.9089241793438091\n",
      "PSWHYCHG9 0.9089241793438091\n"
     ]
    }
   ],
   "source": [
    "for col in empty_cols:\n",
    "    print(col,(final_data[col].isnull().sum())/(1.0*len(final_data)))\n"
   ]
  },
  {
   "cell_type": "markdown",
   "metadata": {},
   "source": [
    "As per the field, might need pre-processing"
   ]
  },
  {
   "cell_type": "code",
   "execution_count": 8,
   "metadata": {},
   "outputs": [],
   "source": [
    "final_data = final_data[((final_data.ANXIOUS != -99) & (final_data.ANXIOUS!= -88)) &\n",
    "               ((final_data.WORRY != -99) & (final_data.WORRY != -88)) &\n",
    "               ((final_data.INTEREST != -99) & (final_data.INTEREST != -88)) &\n",
    "               ((final_data.DOWN != -99) & (final_data.DOWN != -88))]\n",
    "\n",
    "final_data.reset_index(inplace=True, drop=True)"
   ]
  },
  {
   "cell_type": "code",
   "execution_count": 42,
   "metadata": {},
   "outputs": [],
   "source": [
    "final_data['Anxiety'] = final_data['ANXIOUS'] + final_data['WORRY'] - 2\n",
    "final_data['Depression'] = final_data['INTEREST'] + final_data['DOWN'] - 2"
   ]
  },
  {
   "cell_type": "code",
   "execution_count": null,
   "metadata": {},
   "outputs": [],
   "source": [
    "def anxiety_disorder(anxiety_score):\n",
    "    \"\"\" The sum of the variables ANXIOUS AND WORRY - 2 must be at least 3 to consider an anxiety disorder\n",
    "    \"\"\"\n",
    "    return True if anxiety_score >= 3 else False\n",
    "\n",
    "def depression_disorder(depression_score):\n",
    "    \"\"\" The sum of the variables INTEREST AND DOWN - 2 must be at least 3 to consider an anxiety disorder\n",
    "    \"\"\"\n",
    "    return True if depression_score >= 3 else False"
   ]
  },
  {
   "cell_type": "code",
   "execution_count": null,
   "metadata": {},
   "outputs": [],
   "source": [
    "final_data['anxiety_disorder'] = final_data.Anxiety.apply(anxiety_disorder)\n",
    "final_data['depression_disorder'] = final_data.Depression.apply(anxiety_disorder)"
   ]
  },
  {
   "cell_type": "markdown",
   "metadata": {},
   "source": [
    "Include the age"
   ]
  },
  {
   "cell_type": "code",
   "execution_count": 16,
   "metadata": {},
   "outputs": [
    {
     "data": {
      "text/plain": [
       "count    1.079133e+06\n",
       "mean     5.164927e+01\n",
       "std      1.559702e+01\n",
       "min      1.800000e+01\n",
       "25%      3.900000e+01\n",
       "50%      5.200000e+01\n",
       "75%      6.400000e+01\n",
       "max      8.800000e+01\n",
       "Name: AGE, dtype: float64"
      ]
     },
     "execution_count": 16,
     "metadata": {},
     "output_type": "execute_result"
    }
   ],
   "source": [
    "final_data['AGE']=datetime.now().year-final_data['TBIRTH_YEAR']"
   ]
  },
  {
   "cell_type": "markdown",
   "metadata": {},
   "source": [
    "Manually adding mid dates of each period due to lack of continuity"
   ]
  },
  {
   "cell_type": "code",
   "execution_count": 40,
   "metadata": {},
   "outputs": [
    {
     "name": "stderr",
     "output_type": "stream",
     "text": [
      "c:\\users\\ee11b\\lung and glioma\\venv\\lib\\site-packages\\ipykernel_launcher.py:9: SettingWithCopyWarning: \n",
      "A value is trying to be set on a copy of a slice from a DataFrame\n",
      "\n",
      "See the caveats in the documentation: https://pandas.pydata.org/pandas-docs/stable/user_guide/indexing.html#returning-a-view-versus-a-copy\n",
      "  if __name__ == '__main__':\n",
      "c:\\users\\ee11b\\lung and glioma\\venv\\lib\\site-packages\\pandas\\core\\indexing.py:670: SettingWithCopyWarning: \n",
      "A value is trying to be set on a copy of a slice from a DataFrame\n",
      "\n",
      "See the caveats in the documentation: https://pandas.pydata.org/pandas-docs/stable/user_guide/indexing.html#returning-a-view-versus-a-copy\n",
      "  iloc._setitem_with_indexer(indexer, value)\n",
      "c:\\users\\ee11b\\lung and glioma\\venv\\lib\\site-packages\\ipykernel_launcher.py:9: SettingWithCopyWarning: \n",
      "A value is trying to be set on a copy of a slice from a DataFrame\n",
      "\n",
      "See the caveats in the documentation: https://pandas.pydata.org/pandas-docs/stable/user_guide/indexing.html#returning-a-view-versus-a-copy\n",
      "  if __name__ == '__main__':\n",
      "c:\\users\\ee11b\\lung and glioma\\venv\\lib\\site-packages\\pandas\\core\\indexing.py:670: SettingWithCopyWarning: \n",
      "A value is trying to be set on a copy of a slice from a DataFrame\n",
      "\n",
      "See the caveats in the documentation: https://pandas.pydata.org/pandas-docs/stable/user_guide/indexing.html#returning-a-view-versus-a-copy\n",
      "  iloc._setitem_with_indexer(indexer, value)\n",
      "c:\\users\\ee11b\\lung and glioma\\venv\\lib\\site-packages\\ipykernel_launcher.py:9: SettingWithCopyWarning: \n",
      "A value is trying to be set on a copy of a slice from a DataFrame\n",
      "\n",
      "See the caveats in the documentation: https://pandas.pydata.org/pandas-docs/stable/user_guide/indexing.html#returning-a-view-versus-a-copy\n",
      "  if __name__ == '__main__':\n",
      "c:\\users\\ee11b\\lung and glioma\\venv\\lib\\site-packages\\pandas\\core\\indexing.py:670: SettingWithCopyWarning: \n",
      "A value is trying to be set on a copy of a slice from a DataFrame\n",
      "\n",
      "See the caveats in the documentation: https://pandas.pydata.org/pandas-docs/stable/user_guide/indexing.html#returning-a-view-versus-a-copy\n",
      "  iloc._setitem_with_indexer(indexer, value)\n",
      "c:\\users\\ee11b\\lung and glioma\\venv\\lib\\site-packages\\ipykernel_launcher.py:9: SettingWithCopyWarning: \n",
      "A value is trying to be set on a copy of a slice from a DataFrame\n",
      "\n",
      "See the caveats in the documentation: https://pandas.pydata.org/pandas-docs/stable/user_guide/indexing.html#returning-a-view-versus-a-copy\n",
      "  if __name__ == '__main__':\n",
      "c:\\users\\ee11b\\lung and glioma\\venv\\lib\\site-packages\\pandas\\core\\indexing.py:670: SettingWithCopyWarning: \n",
      "A value is trying to be set on a copy of a slice from a DataFrame\n",
      "\n",
      "See the caveats in the documentation: https://pandas.pydata.org/pandas-docs/stable/user_guide/indexing.html#returning-a-view-versus-a-copy\n",
      "  iloc._setitem_with_indexer(indexer, value)\n",
      "c:\\users\\ee11b\\lung and glioma\\venv\\lib\\site-packages\\ipykernel_launcher.py:9: SettingWithCopyWarning: \n",
      "A value is trying to be set on a copy of a slice from a DataFrame\n",
      "\n",
      "See the caveats in the documentation: https://pandas.pydata.org/pandas-docs/stable/user_guide/indexing.html#returning-a-view-versus-a-copy\n",
      "  if __name__ == '__main__':\n",
      "c:\\users\\ee11b\\lung and glioma\\venv\\lib\\site-packages\\pandas\\core\\indexing.py:670: SettingWithCopyWarning: \n",
      "A value is trying to be set on a copy of a slice from a DataFrame\n",
      "\n",
      "See the caveats in the documentation: https://pandas.pydata.org/pandas-docs/stable/user_guide/indexing.html#returning-a-view-versus-a-copy\n",
      "  iloc._setitem_with_indexer(indexer, value)\n",
      "c:\\users\\ee11b\\lung and glioma\\venv\\lib\\site-packages\\ipykernel_launcher.py:9: SettingWithCopyWarning: \n",
      "A value is trying to be set on a copy of a slice from a DataFrame\n",
      "\n",
      "See the caveats in the documentation: https://pandas.pydata.org/pandas-docs/stable/user_guide/indexing.html#returning-a-view-versus-a-copy\n",
      "  if __name__ == '__main__':\n",
      "c:\\users\\ee11b\\lung and glioma\\venv\\lib\\site-packages\\pandas\\core\\indexing.py:670: SettingWithCopyWarning: \n",
      "A value is trying to be set on a copy of a slice from a DataFrame\n",
      "\n",
      "See the caveats in the documentation: https://pandas.pydata.org/pandas-docs/stable/user_guide/indexing.html#returning-a-view-versus-a-copy\n",
      "  iloc._setitem_with_indexer(indexer, value)\n",
      "c:\\users\\ee11b\\lung and glioma\\venv\\lib\\site-packages\\ipykernel_launcher.py:9: SettingWithCopyWarning: \n",
      "A value is trying to be set on a copy of a slice from a DataFrame\n",
      "\n",
      "See the caveats in the documentation: https://pandas.pydata.org/pandas-docs/stable/user_guide/indexing.html#returning-a-view-versus-a-copy\n",
      "  if __name__ == '__main__':\n",
      "c:\\users\\ee11b\\lung and glioma\\venv\\lib\\site-packages\\pandas\\core\\indexing.py:670: SettingWithCopyWarning: \n",
      "A value is trying to be set on a copy of a slice from a DataFrame\n",
      "\n",
      "See the caveats in the documentation: https://pandas.pydata.org/pandas-docs/stable/user_guide/indexing.html#returning-a-view-versus-a-copy\n",
      "  iloc._setitem_with_indexer(indexer, value)\n",
      "c:\\users\\ee11b\\lung and glioma\\venv\\lib\\site-packages\\ipykernel_launcher.py:9: SettingWithCopyWarning: \n",
      "A value is trying to be set on a copy of a slice from a DataFrame\n",
      "\n",
      "See the caveats in the documentation: https://pandas.pydata.org/pandas-docs/stable/user_guide/indexing.html#returning-a-view-versus-a-copy\n",
      "  if __name__ == '__main__':\n",
      "c:\\users\\ee11b\\lung and glioma\\venv\\lib\\site-packages\\pandas\\core\\indexing.py:670: SettingWithCopyWarning: \n",
      "A value is trying to be set on a copy of a slice from a DataFrame\n",
      "\n",
      "See the caveats in the documentation: https://pandas.pydata.org/pandas-docs/stable/user_guide/indexing.html#returning-a-view-versus-a-copy\n",
      "  iloc._setitem_with_indexer(indexer, value)\n",
      "c:\\users\\ee11b\\lung and glioma\\venv\\lib\\site-packages\\ipykernel_launcher.py:9: SettingWithCopyWarning: \n",
      "A value is trying to be set on a copy of a slice from a DataFrame\n",
      "\n",
      "See the caveats in the documentation: https://pandas.pydata.org/pandas-docs/stable/user_guide/indexing.html#returning-a-view-versus-a-copy\n",
      "  if __name__ == '__main__':\n",
      "c:\\users\\ee11b\\lung and glioma\\venv\\lib\\site-packages\\pandas\\core\\indexing.py:670: SettingWithCopyWarning: \n",
      "A value is trying to be set on a copy of a slice from a DataFrame\n",
      "\n",
      "See the caveats in the documentation: https://pandas.pydata.org/pandas-docs/stable/user_guide/indexing.html#returning-a-view-versus-a-copy\n",
      "  iloc._setitem_with_indexer(indexer, value)\n",
      "c:\\users\\ee11b\\lung and glioma\\venv\\lib\\site-packages\\ipykernel_launcher.py:9: SettingWithCopyWarning: \n",
      "A value is trying to be set on a copy of a slice from a DataFrame\n",
      "\n",
      "See the caveats in the documentation: https://pandas.pydata.org/pandas-docs/stable/user_guide/indexing.html#returning-a-view-versus-a-copy\n",
      "  if __name__ == '__main__':\n",
      "c:\\users\\ee11b\\lung and glioma\\venv\\lib\\site-packages\\pandas\\core\\indexing.py:670: SettingWithCopyWarning: \n",
      "A value is trying to be set on a copy of a slice from a DataFrame\n",
      "\n",
      "See the caveats in the documentation: https://pandas.pydata.org/pandas-docs/stable/user_guide/indexing.html#returning-a-view-versus-a-copy\n",
      "  iloc._setitem_with_indexer(indexer, value)\n",
      "c:\\users\\ee11b\\lung and glioma\\venv\\lib\\site-packages\\ipykernel_launcher.py:9: SettingWithCopyWarning: \n",
      "A value is trying to be set on a copy of a slice from a DataFrame\n",
      "\n",
      "See the caveats in the documentation: https://pandas.pydata.org/pandas-docs/stable/user_guide/indexing.html#returning-a-view-versus-a-copy\n",
      "  if __name__ == '__main__':\n",
      "c:\\users\\ee11b\\lung and glioma\\venv\\lib\\site-packages\\pandas\\core\\indexing.py:670: SettingWithCopyWarning: \n",
      "A value is trying to be set on a copy of a slice from a DataFrame\n",
      "\n",
      "See the caveats in the documentation: https://pandas.pydata.org/pandas-docs/stable/user_guide/indexing.html#returning-a-view-versus-a-copy\n",
      "  iloc._setitem_with_indexer(indexer, value)\n",
      "c:\\users\\ee11b\\lung and glioma\\venv\\lib\\site-packages\\ipykernel_launcher.py:9: SettingWithCopyWarning: \n",
      "A value is trying to be set on a copy of a slice from a DataFrame\n",
      "\n",
      "See the caveats in the documentation: https://pandas.pydata.org/pandas-docs/stable/user_guide/indexing.html#returning-a-view-versus-a-copy\n",
      "  if __name__ == '__main__':\n",
      "c:\\users\\ee11b\\lung and glioma\\venv\\lib\\site-packages\\pandas\\core\\indexing.py:670: SettingWithCopyWarning: \n",
      "A value is trying to be set on a copy of a slice from a DataFrame\n",
      "\n",
      "See the caveats in the documentation: https://pandas.pydata.org/pandas-docs/stable/user_guide/indexing.html#returning-a-view-versus-a-copy\n",
      "  iloc._setitem_with_indexer(indexer, value)\n"
     ]
    },
    {
     "name": "stderr",
     "output_type": "stream",
     "text": [
      "c:\\users\\ee11b\\lung and glioma\\venv\\lib\\site-packages\\ipykernel_launcher.py:9: SettingWithCopyWarning: \n",
      "A value is trying to be set on a copy of a slice from a DataFrame\n",
      "\n",
      "See the caveats in the documentation: https://pandas.pydata.org/pandas-docs/stable/user_guide/indexing.html#returning-a-view-versus-a-copy\n",
      "  if __name__ == '__main__':\n",
      "c:\\users\\ee11b\\lung and glioma\\venv\\lib\\site-packages\\pandas\\core\\indexing.py:670: SettingWithCopyWarning: \n",
      "A value is trying to be set on a copy of a slice from a DataFrame\n",
      "\n",
      "See the caveats in the documentation: https://pandas.pydata.org/pandas-docs/stable/user_guide/indexing.html#returning-a-view-versus-a-copy\n",
      "  iloc._setitem_with_indexer(indexer, value)\n",
      "c:\\users\\ee11b\\lung and glioma\\venv\\lib\\site-packages\\ipykernel_launcher.py:9: SettingWithCopyWarning: \n",
      "A value is trying to be set on a copy of a slice from a DataFrame\n",
      "\n",
      "See the caveats in the documentation: https://pandas.pydata.org/pandas-docs/stable/user_guide/indexing.html#returning-a-view-versus-a-copy\n",
      "  if __name__ == '__main__':\n",
      "c:\\users\\ee11b\\lung and glioma\\venv\\lib\\site-packages\\pandas\\core\\indexing.py:670: SettingWithCopyWarning: \n",
      "A value is trying to be set on a copy of a slice from a DataFrame\n",
      "\n",
      "See the caveats in the documentation: https://pandas.pydata.org/pandas-docs/stable/user_guide/indexing.html#returning-a-view-versus-a-copy\n",
      "  iloc._setitem_with_indexer(indexer, value)\n"
     ]
    }
   ],
   "source": [
    "import datetime\n",
    "\n",
    "dates=[date(2020,4,29),date(2020,5,9),date(2020,5,14),date(2020,5,23),date(2020,5,30),date(2020,6,6),date(2020,6,13),\\\n",
    "       date(2020,6,20),date(2020,6,27),date(2020,7,4),date(2020,7,11),date(2020,7,18),date(2020,8,25),date(2020,9,8)]\n",
    "\n",
    "final_data['DATE']=''\n",
    "for i,dt in enumerate(dates):\n",
    "    idx_dt=final_data.index[final_data['WEEK'] == i+1].tolist()\n",
    "    final_data['DATE'][idx_dt]=dt\n"
   ]
  },
  {
   "cell_type": "code",
   "execution_count": 41,
   "metadata": {},
   "outputs": [
    {
     "ename": "ValueError",
     "evalue": "This sheet is too large! Your sheet size is: 1079133, 207 Max sheet size is: 1048576, 16384",
     "output_type": "error",
     "traceback": [
      "\u001b[1;31m---------------------------------------------------------------------------\u001b[0m",
      "\u001b[1;31mValueError\u001b[0m                                Traceback (most recent call last)",
      "\u001b[1;32m<ipython-input-41-478df9f5aede>\u001b[0m in \u001b[0;36m<module>\u001b[1;34m\u001b[0m\n\u001b[1;32m----> 1\u001b[1;33m \u001b[0mfinal_data\u001b[0m\u001b[1;33m.\u001b[0m\u001b[0mto_excel\u001b[0m\u001b[1;33m(\u001b[0m\u001b[0mos\u001b[0m\u001b[1;33m.\u001b[0m\u001b[0mpath\u001b[0m\u001b[1;33m.\u001b[0m\u001b[0mjoin\u001b[0m\u001b[1;33m(\u001b[0m\u001b[1;34m'../data'\u001b[0m\u001b[1;33m,\u001b[0m\u001b[0mbase_name\u001b[0m\u001b[1;33m+\u001b[0m\u001b[1;34m'all.xlsx'\u001b[0m\u001b[1;33m)\u001b[0m\u001b[1;33m)\u001b[0m\u001b[1;33m\u001b[0m\u001b[1;33m\u001b[0m\u001b[0m\n\u001b[0m",
      "\u001b[1;32mc:\\users\\ee11b\\lung and glioma\\venv\\lib\\site-packages\\pandas\\core\\generic.py\u001b[0m in \u001b[0;36mto_excel\u001b[1;34m(self, excel_writer, sheet_name, na_rep, float_format, columns, header, index, index_label, startrow, startcol, engine, merge_cells, encoding, inf_rep, verbose, freeze_panes)\u001b[0m\n\u001b[0;32m   2027\u001b[0m             \u001b[0mstartcol\u001b[0m\u001b[1;33m=\u001b[0m\u001b[0mstartcol\u001b[0m\u001b[1;33m,\u001b[0m\u001b[1;33m\u001b[0m\u001b[1;33m\u001b[0m\u001b[0m\n\u001b[0;32m   2028\u001b[0m             \u001b[0mfreeze_panes\u001b[0m\u001b[1;33m=\u001b[0m\u001b[0mfreeze_panes\u001b[0m\u001b[1;33m,\u001b[0m\u001b[1;33m\u001b[0m\u001b[1;33m\u001b[0m\u001b[0m\n\u001b[1;32m-> 2029\u001b[1;33m             \u001b[0mengine\u001b[0m\u001b[1;33m=\u001b[0m\u001b[0mengine\u001b[0m\u001b[1;33m,\u001b[0m\u001b[1;33m\u001b[0m\u001b[1;33m\u001b[0m\u001b[0m\n\u001b[0m\u001b[0;32m   2030\u001b[0m         )\n\u001b[0;32m   2031\u001b[0m \u001b[1;33m\u001b[0m\u001b[0m\n",
      "\u001b[1;32mc:\\users\\ee11b\\lung and glioma\\venv\\lib\\site-packages\\pandas\\io\\formats\\excel.py\u001b[0m in \u001b[0;36mwrite\u001b[1;34m(self, writer, sheet_name, startrow, startcol, freeze_panes, engine)\u001b[0m\n\u001b[0;32m    721\u001b[0m         \u001b[1;32mif\u001b[0m \u001b[0mnum_rows\u001b[0m \u001b[1;33m>\u001b[0m \u001b[0mself\u001b[0m\u001b[1;33m.\u001b[0m\u001b[0mmax_rows\u001b[0m \u001b[1;32mor\u001b[0m \u001b[0mnum_cols\u001b[0m \u001b[1;33m>\u001b[0m \u001b[0mself\u001b[0m\u001b[1;33m.\u001b[0m\u001b[0mmax_cols\u001b[0m\u001b[1;33m:\u001b[0m\u001b[1;33m\u001b[0m\u001b[1;33m\u001b[0m\u001b[0m\n\u001b[0;32m    722\u001b[0m             raise ValueError(\n\u001b[1;32m--> 723\u001b[1;33m                 \u001b[1;34mf\"This sheet is too large! Your sheet size is: {num_rows}, {num_cols} \"\u001b[0m\u001b[1;33m\u001b[0m\u001b[1;33m\u001b[0m\u001b[0m\n\u001b[0m\u001b[0;32m    724\u001b[0m                 \u001b[1;34mf\"Max sheet size is: {self.max_rows}, {self.max_cols}\"\u001b[0m\u001b[1;33m\u001b[0m\u001b[1;33m\u001b[0m\u001b[0m\n\u001b[0;32m    725\u001b[0m             )\n",
      "\u001b[1;31mValueError\u001b[0m: This sheet is too large! Your sheet size is: 1079133, 207 Max sheet size is: 1048576, 16384"
     ]
    }
   ],
   "source": [
    "final_data.to_excel(os.path.join('../data',base_name+'all.xlsx'))"
   ]
  },
  {
   "cell_type": "code",
   "execution_count": null,
   "metadata": {},
   "outputs": [],
   "source": []
  }
 ],
 "metadata": {
  "kernelspec": {
   "display_name": "Python 3",
   "language": "python",
   "name": "python3"
  },
  "language_info": {
   "codemirror_mode": {
    "name": "ipython",
    "version": 3
   },
   "file_extension": ".py",
   "mimetype": "text/x-python",
   "name": "python",
   "nbconvert_exporter": "python",
   "pygments_lexer": "ipython3",
   "version": "3.7.7"
  }
 },
 "nbformat": 4,
 "nbformat_minor": 4
}
